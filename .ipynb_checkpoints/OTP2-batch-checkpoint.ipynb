{
 "cells": [
  {
   "cell_type": "code",
   "execution_count": 1,
   "metadata": {},
   "outputs": [],
   "source": [
    "import requests\n",
    "import json\n",
    "import time\n",
    "import csv\n",
    "import pandas"
   ]
  },
  {
   "cell_type": "code",
   "execution_count": 2,
   "metadata": {},
   "outputs": [],
   "source": [
    "otpUrl = \"http://localhost:8080/otp/routers/default/plan?\"\n",
    "routingRequest = json.load(open(\"conf/routing-request.json\"))\n",
    "origins = pandas.read_csv(\"conf/origins.csv\")\n",
    "destinations = pandas.read_csv(\"conf/destinations.csv\")\n",
    "resultsFile = \"results.csv\"\n",
    "\n",
    "def toLocalTimestamp(itinerary, field):\n",
    "    millisecondsSinceEpoch = itinerary[field] + itinerary[\"legs\"][0][\"agencyTimeZoneOffset\"]\n",
    "    return time.strftime('%H:%M:%S',time.gmtime(millisecondsSinceEpoch/1000.))"
   ]
  },
  {
   "cell_type": "code",
   "execution_count": null,
   "metadata": {},
   "outputs": [],
   "source": [
    "with open(resultsFile, 'w') as results:  \n",
    "    csvwriter = csv.writer(results)  \n",
    "    csvwriter.writerow([\n",
    "        'origin', \n",
    "        'destination', \n",
    "        'start_time',\n",
    "        'initial_board_time',\n",
    "        'walk_distance', \n",
    "        'duration', \n",
    "        'transfers'])\n",
    "    \n",
    "    for i in range(0, origins.shape[0]):\n",
    "        origin = origins.loc[i]\n",
    "        originId = origin.GEOID\n",
    "        fromLon = origin.X\n",
    "        fromLat = origin.Y\n",
    "        \n",
    "        destination = destinations.loc[i]\n",
    "        destinationId = destination.GEOID\n",
    "        toLon = destination.X\n",
    "        toLat = destination.Y\n",
    "        \n",
    "        routingRequest[\"fromPlace\"] = str(fromLat) + \",\" + str(fromLon)\n",
    "        routingRequest[\"toPlace\"] = str(fromLat) + \",\" + str(fromLon)\n",
    "\n",
    "        r = requests.get(otpUrl, params=routingRequest)\n",
    "        itineraries = json.loads(r.content)[\"plan\"][\"itineraries\"]\n",
    "        \n",
    "        for itinerary in itineraries:\n",
    "            initialBoard = \"\"\n",
    "            for leg in itinerary[\"legs\"]:\n",
    "                if leg[\"transitLeg\"]:\n",
    "                    initialBoard = time.strftime('%H:%M:%S', time.gmtime((leg[\"startTime\"] + itinerary[\"legs\"][0][\"agencyTimeZoneOffset\"]) / 1000.0))\n",
    "            csvwriter.writerow([\n",
    "                originId, \n",
    "                destinationId, \n",
    "                toLocalTimestamp(itinerary,\"startTime\"), # use itinerary[\"startTime\"] / 1000.0 to output seconds\n",
    "                initialBoard,\n",
    "                itinerary[\"walkDistance\"], \n",
    "                itinerary[\"duration\"], \n",
    "                itinerary[\"transfers\"]] # FIXME all results 0?\n",
    "            )\n",
    "        \n",
    "        if ((i + 1) % 100 == 0):\n",
    "            print(\"Completed \" + str(i + 1) + \"/\" + str(origins.shape[0]) + \" O-D pairs\")\n",
    "print(\"Completed all O-D pairs\")"
   ]
  }
 ],
 "metadata": {
  "kernelspec": {
   "display_name": "Python 3",
   "language": "python",
   "name": "python3"
  },
  "language_info": {
   "codemirror_mode": {
    "name": "ipython",
    "version": 3
   },
   "file_extension": ".py",
   "mimetype": "text/x-python",
   "name": "python",
   "nbconvert_exporter": "python",
   "pygments_lexer": "ipython3",
   "version": "3.7.6"
  }
 },
 "nbformat": 4,
 "nbformat_minor": 4
}
